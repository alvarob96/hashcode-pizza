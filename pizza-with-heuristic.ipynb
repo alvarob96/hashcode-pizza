{
 "cells": [
  {
   "cell_type": "code",
   "execution_count": 1,
   "metadata": {},
   "outputs": [],
   "source": [
    "import pandas as pd\n",
    "import numpy as np\n",
    "import math"
   ]
  },
  {
   "cell_type": "code",
   "execution_count": 2,
   "metadata": {},
   "outputs": [],
   "source": [
    "flag = False\n",
    "elements_ = []\n",
    "\n",
    "with open('d_big.in') as input_:\n",
    "    for line in input_:\n",
    "        if flag is False:\n",
    "            rows, cols, min_ingredients, max_cells = line.split(' ')\n",
    "            flag = True\n",
    "        else:\n",
    "            elements_.append(np.array(list(line.rstrip())))"
   ]
  },
  {
   "cell_type": "code",
   "execution_count": 3,
   "metadata": {},
   "outputs": [],
   "source": [
    "df = pd.DataFrame(elements_)\n",
    "pizza_ = df.replace(['M', 'T'], [1, 0])\n",
    "\n",
    "total_tomatoes = len(pizza_[pizza_.values == 0])\n",
    "total_mushrooms = len(pizza_[pizza_.values == 1])\n",
    "less_ingredient = 'tomatoes' if total_tomatoes < total_mushrooms else 'mushrooms'"
   ]
  },
  {
   "cell_type": "code",
   "execution_count": 4,
   "metadata": {},
   "outputs": [
    {
     "data": {
      "text/plain": [
       "<Figure size 640x480 with 2 Axes>"
      ]
     },
     "metadata": {},
     "output_type": "display_data"
    }
   ],
   "source": [
    "import matplotlib.pyplot as plt\n",
    "import seaborn as sns\n",
    "\n",
    "sns.set()\n",
    "\n",
    "sns.heatmap(pizza_)\n",
    "plt.show()"
   ]
  },
  {
   "cell_type": "markdown",
   "metadata": {},
   "source": [
    "#### SETAS => 1\n",
    "\n",
    "#### TOMATES => 0"
   ]
  },
  {
   "cell_type": "code",
   "execution_count": 5,
   "metadata": {},
   "outputs": [],
   "source": [
    "def maximize_cuts(max_):\n",
    "    possible_cuts = list()\n",
    "    \n",
    "    for j in range(max_, (int(min_ingredients) * 2) - 1, -1):\n",
    "        for i in range(j, 0, -1):\n",
    "            x_ = j % i\n",
    "            y_ = j % i\n",
    "\n",
    "            if x_ == 0 and y_ == 0:\n",
    "                item_x = [int(j / i), i]\n",
    "                item_y = [i, int(j / i)]\n",
    "                if item_x not in possible_cuts:\n",
    "                    possible_cuts.append(item_x)\n",
    "                if item_y not in possible_cuts:\n",
    "                    possible_cuts.append(item_y)\n",
    "            \n",
    "    return possible_cuts"
   ]
  },
  {
   "cell_type": "code",
   "execution_count": 6,
   "metadata": {},
   "outputs": [],
   "source": [
    "class pizzaSlice:\n",
    "    slice_ = None\n",
    "    value_ = 0\n",
    "    \n",
    "    def __init__(self, slice_):\n",
    "        self.slice_ = slice_\n",
    "        self.value_ = self.calc_value()\n",
    "        \n",
    "    def calc_value(self):\n",
    "        mushrooms = 0\n",
    "        tomatoes = 0\n",
    "        \n",
    "        for val in self.slice_:\n",
    "            if pizza_.at[val[0], val[1]] == 1:\n",
    "                mushrooms += 1\n",
    "            elif pizza_.at[val[0], val[1]] == 0:\n",
    "                tomatoes += 1\n",
    "                \n",
    "        if less_ingredient == 'tomatoes':\n",
    "            return tomatoes\n",
    "        else:\n",
    "            return mushrooms"
   ]
  },
  {
   "cell_type": "code",
   "execution_count": 7,
   "metadata": {},
   "outputs": [],
   "source": [
    "def matches_condition(pizza_, pizza_slices):\n",
    "    if not pizza_slices:\n",
    "        return None\n",
    "    else:\n",
    "        min_slice = pizza_slices[0]\n",
    "        max_cells = 0\n",
    "        \n",
    "        for pizza_slice in pizza_slices:\n",
    "            tomatoes = 0\n",
    "            mushrooms = 0\n",
    "            for cell_slice in pizza_slice.slice_:\n",
    "                if pizza_.at[cell_slice[0], cell_slice[1]] == 1:\n",
    "                    mushrooms += 1\n",
    "                elif pizza_.at[cell_slice[0], cell_slice[1]] == 0:\n",
    "                    tomatoes += 1\n",
    "            if mushrooms >= int(min_ingredients) and tomatoes >= int(min_ingredients):\n",
    "                if min_slice.value_ > pizza_slice.value_ and max_cells < len(pizza_slice.slice_):\n",
    "                    max_cells = len(pizza_slice.slice_)\n",
    "                    min_slice = pizza_slice\n",
    "\n",
    "        return min_slice.slice_"
   ]
  },
  {
   "cell_type": "code",
   "execution_count": 8,
   "metadata": {},
   "outputs": [],
   "source": [
    "def check_cuts(x, y, min_, max_, cuts_):\n",
    "    slices_ = list()\n",
    "    \n",
    "    for cut in cuts_:\n",
    "        slice_ = list()\n",
    "        invalid = False\n",
    "        \n",
    "        for i in range(cut[0]):\n",
    "            for j in range(cut[1]):\n",
    "                if x + i < pizza_.shape[0] and y + j < pizza_.shape[1] and pizza_.at[x + i, y + j] != 5:\n",
    "                    slice_.append([x + i, y + j])\n",
    "                else:\n",
    "                    invalid = True\n",
    "        \n",
    "        if invalid is False:\n",
    "            slices_.append(pizzaSlice(slice_))\n",
    "    \n",
    "    return slices_"
   ]
  },
  {
   "cell_type": "code",
   "execution_count": 9,
   "metadata": {
    "scrolled": false
   },
   "outputs": [],
   "source": [
    "good_slices = list()\n",
    "possible_cuts = maximize_cuts(int(max_cells))\n",
    "\n",
    "for row_ in range(pizza_.shape[0]):\n",
    "    for col_ in range(pizza_.shape[1]):\n",
    "        if pizza_.at[row_, col_] != 5:\n",
    "            slices_ = check_cuts(row_, col_, int(min_ingredients), int(max_cells), possible_cuts)\n",
    "            slice_ = matches_condition(pizza_, slices_)\n",
    "            if slice_ is not None:\n",
    "                col_final = len(slice_)\n",
    "                good_slices.append([row_, slice_[col_final - 1][0], col_, slice_[col_final - 1][1]])\n",
    "                for element in slice_:\n",
    "                    pizza_.at[element[0], element[1]] = 5"
   ]
  },
  {
   "cell_type": "code",
   "execution_count": 10,
   "metadata": {},
   "outputs": [
    {
     "data": {
      "image/png": "[encoded data removed]",
      "text/plain": [
       "<Figure size 432x288 with 2 Axes>"
      ]
     },
     "metadata": {
      "needs_background": "light"
     },
     "output_type": "display_data"
    }
   ],
   "source": [
    "sns.heatmap(pizza_)\n",
    "plt.show()"
   ]
  },
  {
   "cell_type": "code",
   "execution_count": 11,
   "metadata": {},
   "outputs": [],
   "source": [
    "with open('heuristic_big.out', 'w') as f_:\n",
    "    f_.write(str(len(good_slices)) + \"\\n\")\n",
    "    \n",
    "    for value_ in good_slices:\n",
    "        f_.write(str(value_[0]) + \" \" + str(value_[2]) + \" \" + str(value_[1]) + \" \" + str(value_[3]) + \"\\n\")"
   ]
  },
  {
   "cell_type": "code",
   "execution_count": null,
   "metadata": {},
   "outputs": [],
   "source": []
  }
 ],
 "metadata": {
  "kernelspec": {
   "display_name": "Python 3",
   "language": "python",
   "name": "python3"
  },
  "language_info": {
   "codemirror_mode": {
    "name": "ipython",
    "version": 3
   },
   "file_extension": ".py",
   "mimetype": "text/x-python",
   "name": "python",
   "nbconvert_exporter": "python",
   "pygments_lexer": "ipython3",
   "version": "3.7.1"
  }
 },
 "nbformat": 4,
 "nbformat_minor": 2
}
